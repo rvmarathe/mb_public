{
  "cells": [
    {
      "cell_type": "markdown",
      "metadata": {
        "id": "view-in-github",
        "colab_type": "text"
      },
      "source": [
        "<a href=\"https://colab.research.google.com/github/rvmarathe/mb_public/blob/main/inj3a.ipynb\" target=\"_parent\"><img src=\"https://colab.research.google.com/assets/colab-badge.svg\" alt=\"Open In Colab\"/></a>"
      ]
    },
    {
      "cell_type": "markdown",
      "metadata": {
        "id": "4542fc2e"
      },
      "source": [
        "# Reservoir Performance Depletion Drive Analysis\n",
        "\n",
        "This notebook performs reservoir performance analysis for a depletion drive reservoir. It utilizes PVT data, production data, and relative permeability correlations to calculate and visualize key reservoir performance indicators such as cumulative oil production, reservoir pressure, gas-oil ratio (GOR), and instantaneous oil production rate.\n",
        "\n",
        "## Notebook Structure\n",
        "\n",
        "1. **Import Libraries**: Imports necessary libraries for numerical operations, data manipulation, plotting, and file handling.\n",
        "2. **Load Input Files**: Uploads and loads data from \"basic.txt\", \"prod.csv\", and \"pvt.csv\" files containing basic reservoir parameters, production history, and PVT data, respectively.\n",
        "3. **Process Input Data**: Extracts and processes the loaded data to calculate various parameters like effective compressibility and incremental/cumulative production quantities.\n",
        "4. **Define Functions**: Defines functions for interpolating PVT data and calculating gas-oil ratio (GOR) based on different relative permeability correlations.\n",
        "5. **Calculate Reservoir Performance**: Performs calculations to estimate reservoir pressure, GOR, cumulative gas production, and oil saturation over time, considering both undersaturated and saturated reservoir conditions.\n",
        "6. **Summarize Results**: Creates a pandas DataFrame to store and display the calculated reservoir performance parameters in a tabular format.\n",
        "7. **Visualize Results**: Generates a multi-axis plot to visualize the relationship between time, cumulative oil production, reservoir pressure, GOR, and instantaneous oil production rate.\n",
        "\n",
        "## Input Files\n",
        "\n",
        "- `basic.txt`: Contains basic reservoir parameters.\n",
        "- `prod.csv`: Contains production history data with columns for TIME, ANP (cumulative oil production), QINJ (water injection rate), and WP (cumulative water production).\n",
        "- `pvt.csv`: Contains PVT data with columns for P (pressure), BO (oil formation volume factor), BG (gas formation volume factor), RS (solution gas-oil ratio), AMEO (oil viscosity), and AMEG (gas viscosity).\n",
        "\n",
        "## Output\n",
        "\n",
        "The notebook outputs a table summarizing the calculated reservoir performance parameters and a plot visualizing the reservoir's performance over time."
      ]
    },
    {
      "cell_type": "markdown",
      "metadata": {
        "id": "5FHXMSvFo-rR"
      },
      "source": [
        "# Python program for pvt correlations(standing)"
      ]
    },
    {
      "cell_type": "code",
      "execution_count": null,
      "metadata": {
        "id": "tbNVKUL-o-rb"
      },
      "outputs": [],
      "source": [
        "import numpy as np\n",
        "import pandas as pd\n",
        "import matplotlib.pyplot as plt\n",
        "%matplotlib inline\n",
        "from scipy.interpolate import interp1d\n",
        "import math as m\n"
      ]
    },
    {
      "cell_type": "code",
      "execution_count": null,
      "metadata": {
        "id": "8D_ehGZ3qJBw"
      },
      "outputs": [],
      "source": [
        "from google.colab import files"
      ]
    },
    {
      "cell_type": "code",
      "execution_count": null,
      "metadata": {
        "colab": {
          "base_uri": "https://localhost:8080/",
          "height": 177
        },
        "id": "ZDdmBeuUqJHA",
        "outputId": "83093262-4564-475a-b8a6-1c19a068f9fc"
      },
      "outputs": [
        {
          "output_type": "stream",
          "name": "stdout",
          "text": [
            "rm: cannot remove '*.csv': No such file or directory\n",
            "rm: cannot remove '*.txt': No such file or directory\n"
          ]
        },
        {
          "output_type": "display_data",
          "data": {
            "text/plain": [
              "<IPython.core.display.HTML object>"
            ],
            "text/html": [
              "\n",
              "     <input type=\"file\" id=\"files-7a3ccd85-9558-4b88-b492-3dac9ed0ae79\" name=\"files[]\" multiple disabled\n",
              "        style=\"border:none\" />\n",
              "     <output id=\"result-7a3ccd85-9558-4b88-b492-3dac9ed0ae79\">\n",
              "      Upload widget is only available when the cell has been executed in the\n",
              "      current browser session. Please rerun this cell to enable.\n",
              "      </output>\n",
              "      <script>// Copyright 2017 Google LLC\n",
              "//\n",
              "// Licensed under the Apache License, Version 2.0 (the \"License\");\n",
              "// you may not use this file except in compliance with the License.\n",
              "// You may obtain a copy of the License at\n",
              "//\n",
              "//      http://www.apache.org/licenses/LICENSE-2.0\n",
              "//\n",
              "// Unless required by applicable law or agreed to in writing, software\n",
              "// distributed under the License is distributed on an \"AS IS\" BASIS,\n",
              "// WITHOUT WARRANTIES OR CONDITIONS OF ANY KIND, either express or implied.\n",
              "// See the License for the specific language governing permissions and\n",
              "// limitations under the License.\n",
              "\n",
              "/**\n",
              " * @fileoverview Helpers for google.colab Python module.\n",
              " */\n",
              "(function(scope) {\n",
              "function span(text, styleAttributes = {}) {\n",
              "  const element = document.createElement('span');\n",
              "  element.textContent = text;\n",
              "  for (const key of Object.keys(styleAttributes)) {\n",
              "    element.style[key] = styleAttributes[key];\n",
              "  }\n",
              "  return element;\n",
              "}\n",
              "\n",
              "// Max number of bytes which will be uploaded at a time.\n",
              "const MAX_PAYLOAD_SIZE = 100 * 1024;\n",
              "\n",
              "function _uploadFiles(inputId, outputId) {\n",
              "  const steps = uploadFilesStep(inputId, outputId);\n",
              "  const outputElement = document.getElementById(outputId);\n",
              "  // Cache steps on the outputElement to make it available for the next call\n",
              "  // to uploadFilesContinue from Python.\n",
              "  outputElement.steps = steps;\n",
              "\n",
              "  return _uploadFilesContinue(outputId);\n",
              "}\n",
              "\n",
              "// This is roughly an async generator (not supported in the browser yet),\n",
              "// where there are multiple asynchronous steps and the Python side is going\n",
              "// to poll for completion of each step.\n",
              "// This uses a Promise to block the python side on completion of each step,\n",
              "// then passes the result of the previous step as the input to the next step.\n",
              "function _uploadFilesContinue(outputId) {\n",
              "  const outputElement = document.getElementById(outputId);\n",
              "  const steps = outputElement.steps;\n",
              "\n",
              "  const next = steps.next(outputElement.lastPromiseValue);\n",
              "  return Promise.resolve(next.value.promise).then((value) => {\n",
              "    // Cache the last promise value to make it available to the next\n",
              "    // step of the generator.\n",
              "    outputElement.lastPromiseValue = value;\n",
              "    return next.value.response;\n",
              "  });\n",
              "}\n",
              "\n",
              "/**\n",
              " * Generator function which is called between each async step of the upload\n",
              " * process.\n",
              " * @param {string} inputId Element ID of the input file picker element.\n",
              " * @param {string} outputId Element ID of the output display.\n",
              " * @return {!Iterable<!Object>} Iterable of next steps.\n",
              " */\n",
              "function* uploadFilesStep(inputId, outputId) {\n",
              "  const inputElement = document.getElementById(inputId);\n",
              "  inputElement.disabled = false;\n",
              "\n",
              "  const outputElement = document.getElementById(outputId);\n",
              "  outputElement.innerHTML = '';\n",
              "\n",
              "  const pickedPromise = new Promise((resolve) => {\n",
              "    inputElement.addEventListener('change', (e) => {\n",
              "      resolve(e.target.files);\n",
              "    });\n",
              "  });\n",
              "\n",
              "  const cancel = document.createElement('button');\n",
              "  inputElement.parentElement.appendChild(cancel);\n",
              "  cancel.textContent = 'Cancel upload';\n",
              "  const cancelPromise = new Promise((resolve) => {\n",
              "    cancel.onclick = () => {\n",
              "      resolve(null);\n",
              "    };\n",
              "  });\n",
              "\n",
              "  // Wait for the user to pick the files.\n",
              "  const files = yield {\n",
              "    promise: Promise.race([pickedPromise, cancelPromise]),\n",
              "    response: {\n",
              "      action: 'starting',\n",
              "    }\n",
              "  };\n",
              "\n",
              "  cancel.remove();\n",
              "\n",
              "  // Disable the input element since further picks are not allowed.\n",
              "  inputElement.disabled = true;\n",
              "\n",
              "  if (!files) {\n",
              "    return {\n",
              "      response: {\n",
              "        action: 'complete',\n",
              "      }\n",
              "    };\n",
              "  }\n",
              "\n",
              "  for (const file of files) {\n",
              "    const li = document.createElement('li');\n",
              "    li.append(span(file.name, {fontWeight: 'bold'}));\n",
              "    li.append(span(\n",
              "        `(${file.type || 'n/a'}) - ${file.size} bytes, ` +\n",
              "        `last modified: ${\n",
              "            file.lastModifiedDate ? file.lastModifiedDate.toLocaleDateString() :\n",
              "                                    'n/a'} - `));\n",
              "    const percent = span('0% done');\n",
              "    li.appendChild(percent);\n",
              "\n",
              "    outputElement.appendChild(li);\n",
              "\n",
              "    const fileDataPromise = new Promise((resolve) => {\n",
              "      const reader = new FileReader();\n",
              "      reader.onload = (e) => {\n",
              "        resolve(e.target.result);\n",
              "      };\n",
              "      reader.readAsArrayBuffer(file);\n",
              "    });\n",
              "    // Wait for the data to be ready.\n",
              "    let fileData = yield {\n",
              "      promise: fileDataPromise,\n",
              "      response: {\n",
              "        action: 'continue',\n",
              "      }\n",
              "    };\n",
              "\n",
              "    // Use a chunked sending to avoid message size limits. See b/62115660.\n",
              "    let position = 0;\n",
              "    do {\n",
              "      const length = Math.min(fileData.byteLength - position, MAX_PAYLOAD_SIZE);\n",
              "      const chunk = new Uint8Array(fileData, position, length);\n",
              "      position += length;\n",
              "\n",
              "      const base64 = btoa(String.fromCharCode.apply(null, chunk));\n",
              "      yield {\n",
              "        response: {\n",
              "          action: 'append',\n",
              "          file: file.name,\n",
              "          data: base64,\n",
              "        },\n",
              "      };\n",
              "\n",
              "      let percentDone = fileData.byteLength === 0 ?\n",
              "          100 :\n",
              "          Math.round((position / fileData.byteLength) * 100);\n",
              "      percent.textContent = `${percentDone}% done`;\n",
              "\n",
              "    } while (position < fileData.byteLength);\n",
              "  }\n",
              "\n",
              "  // All done.\n",
              "  yield {\n",
              "    response: {\n",
              "      action: 'complete',\n",
              "    }\n",
              "  };\n",
              "}\n",
              "\n",
              "scope.google = scope.google || {};\n",
              "scope.google.colab = scope.google.colab || {};\n",
              "scope.google.colab._files = {\n",
              "  _uploadFiles,\n",
              "  _uploadFilesContinue,\n",
              "};\n",
              "})(self);\n",
              "</script> "
            ]
          },
          "metadata": {}
        },
        {
          "output_type": "stream",
          "name": "stdout",
          "text": [
            "Saving basic.txt to basic.txt\n",
            "Saving prod.csv to prod.csv\n",
            "Saving pvt.csv to pvt.csv\n"
          ]
        }
      ],
      "source": [
        "\n",
        "#below line will remove all txt and csv files from working directory\n",
        "!rm *.csv *.txt\n",
        "files=files.upload()"
      ]
    },
    {
      "cell_type": "code",
      "execution_count": null,
      "metadata": {
        "id": "ZaQZN4sjo-re"
      },
      "outputs": [],
      "source": [
        "#arr1=np.genfromtxt(\"l1.txt\", delimiter=',')\n",
        "#arr1=np.genfromtxt(\"sh1.txt\", delimiter=',')\n",
        "arr1=np.genfromtxt(\"basic.txt\", delimiter=',')\n",
        "EM=arr1[0,0]         #gas cap size ratio of gas -cap size to oil rim size GBgi/Nboi\n",
        "AIOIP=arr1[0,1]     #initialoil in place m3\n",
        "PINIT=arr1[0,2]     # initial reservoir pressure\n",
        "BOI=arr1[0,3]        #oil fvf at initial pressure\n",
        "CO=arr1[0,4]        #oil compressibility ksc-1 compaible with boi and bo at saturation pressure\n",
        "CW=arr1[0,5]        #water copmpreesibility ksc-1 default standard numnber\n",
        "CF= arr1[0,6]        #rock compressibilty ksc-1 default standard number\n",
        "SWI=arr1[1,0]       #initial water satration\n",
        "SOR=arr1[1,1]       # sor to gas displacement\n",
        "SGC=arr1[1,2]       #critical gas saturation\n",
        "GKSORG=arr1[1,3]         #maximum krg at maximumn=m ga saturation\n",
        "IFL=int(arr1[1,4])     #flag for relative permeabilty curve 1 modest, 3 strong\n",
        "AK=arr1[1,5]         # average field permeability also required in some rel perm correlations\n",
        "PHI=arr1[1,6]         #avearge pososity some rel perm corelations require it\n"
      ]
    },
    {
      "cell_type": "code",
      "execution_count": null,
      "metadata": {
        "colab": {
          "base_uri": "https://localhost:8080/"
        },
        "id": "fgOmceq1o-rf",
        "outputId": "a4727b1c-c5c0-4fbe-d1ef-987565b45c18"
      },
      "outputs": [
        {
          "output_type": "stream",
          "name": "stdout",
          "text": [
            "0.0\n"
          ]
        }
      ],
      "source": [
        "print(EM)"
      ]
    },
    {
      "cell_type": "code",
      "execution_count": null,
      "metadata": {
        "colab": {
          "base_uri": "https://localhost:8080/"
        },
        "id": "l6TT2VWro-ri",
        "outputId": "b8d787dd-b380-4b4e-9965-350c490de773"
      },
      "outputs": [
        {
          "output_type": "stream",
          "name": "stdout",
          "text": [
            "            P        BO        BG          RS      AMEO      AMEG\n",
            "0   124.00000  1.479300  0.008621  129.231000  0.526571  0.018255\n",
            "1   115.80200  1.452899  0.009309  119.153105  0.548692  0.017549\n",
            "2   107.60400  1.427160  0.010119  109.218071  0.573143  0.016884\n",
            "3    99.40660  1.402094  0.011082   99.434433  0.600321  0.016260\n",
            "4    91.20890  1.377743  0.012237   89.811985  0.630722  0.015681\n",
            "5    83.01110  1.354120  0.013639   80.361922  0.664967  0.015145\n",
            "6    74.81330  1.331266  0.015367   71.097535  0.703845  0.014654\n",
            "7    66.61550  1.309215  0.017539   62.034076  0.748371  0.014205\n",
            "8    58.41770  1.287999  0.020337   53.190994  0.799868  0.013799\n",
            "9    50.21990  1.267683  0.024066   44.591797  0.860085  0.013432\n",
            "10   42.02220  1.248322  0.029267   36.266708  0.931359  0.013103\n",
            "11   33.82440  1.230002  0.037006   28.256303  1.016830  0.012811\n",
            "12   25.62660  1.212832  0.049712   20.617672  1.120680  0.012556\n",
            "13   17.42880  1.196974  0.074390   13.438895  1.248150  0.012336\n",
            "14    9.23102  1.182744  0.142927    6.877385  1.404250  0.012156\n",
            "15    1.03323  1.170921  1.299180    1.333516  1.583570  0.012029\n"
          ]
        }
      ],
      "source": [
        "#data= pd.read_csv('pvtsh.csv')\n",
        "#data= pd.read_csv('l1pvt.csv')\n",
        "data= pd.read_csv('pvt.csv')\n",
        "print(data)"
      ]
    },
    {
      "cell_type": "code",
      "execution_count": null,
      "metadata": {
        "colab": {
          "base_uri": "https://localhost:8080/"
        },
        "id": "ntUX50JMo-rj",
        "outputId": "f3889c0e-369f-4260-b3fe-ab94be562827"
      },
      "outputs": [
        {
          "output_type": "stream",
          "name": "stdout",
          "text": [
            "[124.      115.802   107.604    99.4066   91.2089   83.0111   74.8133\n",
            "  66.6155   58.4177   50.2199   42.0222   33.8244   25.6266   17.4288\n",
            "   9.23102   1.03323]\n",
            "124.0\n",
            "1.4793\n",
            "Total effective compressibility in ksc-1= 0.00027959999999999997\n"
          ]
        }
      ],
      "source": [
        "P=data['P'].values\n",
        "print(P)\n",
        "print(P[0])\n",
        "BO= data['BO'].values\n",
        "BG= data['BG'].values\n",
        "BO1=BO[0]\n",
        "print(BO1)\n",
        "COE=CO+(CW*SWI/(1.0-SWI))+(CF/(1.0-SWI))\n",
        "print('Total effective compressibility in ksc-1=',COE)\n",
        "\n",
        "RS= data['RS'].values\n",
        "RSB= RS[0]"
      ]
    },
    {
      "cell_type": "code",
      "execution_count": null,
      "metadata": {
        "colab": {
          "base_uri": "https://localhost:8080/"
        },
        "id": "1_HjIvB_o-rk",
        "outputId": "e83a94ec-5975-4e6f-eca2-3f7d922a4096"
      },
      "outputs": [
        {
          "output_type": "stream",
          "name": "stdout",
          "text": [
            "    TIME   ANP  QINJ    WP\n",
            "0    365  1170     0   287\n",
            "1    730  1542     0   300\n",
            "2   1095  1654     0   318\n",
            "3   1460  1955     0   370\n",
            "4   1825  2541     0   623\n",
            "5   2190  3082     0   802\n",
            "6   2555  3299     0   846\n",
            "7   2920  3625     0  1022\n",
            "8   3285  3782     0  1130\n",
            "9   3650  3932     0  1294\n",
            "10  4015  4058     0  1394\n",
            "11  4380  4157     0  1408\n",
            "12  4745  4251     0  1466\n",
            "13  5110  4337     0  1468\n",
            " total time steps= 14\n"
          ]
        }
      ],
      "source": [
        "#prod=pd.read_csv('l1_inp.csv')\n",
        "#prod=pd.read_csv('sh1_inp.csv')\n",
        "prod=pd.read_csv('prod.csv')\n",
        "print(prod)\n",
        "NTYR=prod.shape[0]\n",
        "print(' total time steps=', NTYR)\n",
        "ANP= prod['ANP'].values\n",
        "WP = prod['WP'].values"
      ]
    },
    {
      "cell_type": "code",
      "execution_count": null,
      "metadata": {
        "colab": {
          "base_uri": "https://localhost:8080/"
        },
        "id": "0B4wmmoMo-rl",
        "outputId": "0cbe0a88-d8a7-4b88-d7a1-763932f0727b"
      },
      "outputs": [
        {
          "output_type": "stream",
          "name": "stdout",
          "text": [
            "    TIME   ANP  QINJ    WP   WI\n",
            "0    365  1170     0   287  0.0\n",
            "1    730  1542     0   300  0.0\n",
            "2   1095  1654     0   318  0.0\n",
            "3   1460  1955     0   370  0.0\n",
            "4   1825  2541     0   623  0.0\n",
            "5   2190  3082     0   802  0.0\n",
            "6   2555  3299     0   846  0.0\n",
            "7   2920  3625     0  1022  0.0\n",
            "8   3285  3782     0  1130  0.0\n",
            "9   3650  3932     0  1294  0.0\n",
            "10  4015  4058     0  1394  0.0\n",
            "11  4380  4157     0  1408  0.0\n",
            "12  4745  4251     0  1466  0.0\n",
            "13  5110  4337     0  1468  0.0\n"
          ]
        }
      ],
      "source": [
        "# Compute time differences\n",
        "prod['time_diff'] = prod['TIME'].diff().fillna(0)\n",
        "\n",
        "# Compute incremental quantities\n",
        "prod['incremental_qty'] = prod['time_diff'] * prod['QINJ']\n",
        "\n",
        "# Compute cumulative quantity\n",
        "prod['WI'] = prod['incremental_qty'].cumsum()\n",
        "\n",
        "# Drop intermediate column if not needed\n",
        "prod.drop(columns=['time_diff', 'incremental_qty'], inplace=True)\n",
        "print(prod)"
      ]
    },
    {
      "cell_type": "code",
      "execution_count": null,
      "metadata": {
        "colab": {
          "base_uri": "https://localhost:8080/"
        },
        "id": "mee0xtFVo-rm",
        "outputId": "25cccd61-a129-459f-893c-45ce01da250f"
      },
      "outputs": [
        {
          "output_type": "stream",
          "name": "stdout",
          "text": [
            "    TIME   ANP  QINJ    WP   WI        QO  istep\n",
            "0    365  1170     0   287  0.0  3.205479      0\n",
            "1    730  1542     0   300  0.0  1.019178      1\n",
            "2   1095  1654     0   318  0.0  0.306849      2\n",
            "3   1460  1955     0   370  0.0  0.824658      3\n",
            "4   1825  2541     0   623  0.0  1.605479      4\n",
            "5   2190  3082     0   802  0.0  1.482192      5\n",
            "6   2555  3299     0   846  0.0  0.594521      6\n",
            "7   2920  3625     0  1022  0.0  0.893151      7\n",
            "8   3285  3782     0  1130  0.0  0.430137      8\n",
            "9   3650  3932     0  1294  0.0  0.410959      9\n",
            "10  4015  4058     0  1394  0.0  0.345205     10\n",
            "11  4380  4157     0  1408  0.0  0.271233     11\n",
            "12  4745  4251     0  1466  0.0  0.257534     12\n",
            "13  5110  4337     0  1468  0.0  0.235616     13\n"
          ]
        }
      ],
      "source": [
        "TIME=prod['TIME'].values\n",
        "QO=[]\n",
        "for i in range (NTYR):\n",
        "    if i == 0:\n",
        "        rate=ANP[i]/TIME[i]\n",
        "    else:\n",
        "        rate=(ANP[i]-ANP[i-1])/(TIME[i]-TIME[i-1])\n",
        "    QO.append(rate)\n",
        "#print(QO)\n",
        "prod['QO']=QO\n",
        "WI=prod['WI'].values\n",
        "prod['istep']=prod.index\n",
        "print(prod)"
      ]
    },
    {
      "cell_type": "code",
      "execution_count": null,
      "metadata": {
        "id": "I66p547No-rp"
      },
      "outputs": [],
      "source": [
        "def ratio(SG, IFL):\n",
        "    \"\"\"\"\n",
        "    Function to get kg/ko at a given gas saturation\n",
        "    usese three differen types of re perm curves\n",
        "    ifl=1 mild rises of Gor\n",
        "    ifl=2 and 3 quick rise in gor as in carbonate reservoirs\n",
        "    input:\n",
        "    SG: gas saturation and IFL\n",
        "    other variabls SWI, SOR ,GKSORG etc.are global variables read in as txt file\n",
        "    \"\"\"\n",
        "    SO= 1.0-SG -SWI\n",
        "    SMIN= 1.0-SWI-SOR\n",
        "    if IFL == 1:\n",
        "        A=(1.0-SGC-SWI-SO)/(SO-SOR)\n",
        "        RATIO=A*(0.04335+0.4556*A)\n",
        "        return RATIO\n",
        "    elif IFL==2:\n",
        "        OK=((SO-SOR)**2)/(SMIN**2)\n",
        "        GK=GKSORG*((SG-SGC)**2)/((SMIN-SGC)**2)\n",
        "        if SG <  SGC:\n",
        "            GK=0.0\n",
        "            RATIO=0.0\n",
        "            return RATIO\n",
        "        else:\n",
        "            RATIO=GK/OK\n",
        "            return RATIO\n",
        "    else:\n",
        "\n",
        "        OK=0.98372*(SO/(1.-SWI))**4*((SO-SOR)/(1.-SWI-SOR))**2\n",
        "        GK=1.1072*((SG-SGC)/(1.-SWI))**2*GKSORG+2.7794*SOR*((SG-SGC)/(1.-SWI))*GKSORG\n",
        "        if SG < SGC:\n",
        "            GK=0.0\n",
        "            RATIO=0.0\n",
        "            return RATIO\n",
        "        else:\n",
        "            RATIO=GK/OK\n",
        "            return RATIO"
      ]
    },
    {
      "cell_type": "code",
      "execution_count": null,
      "metadata": {
        "id": "i7e01AYxo-rp"
      },
      "outputs": [],
      "source": [
        "def polate_pvt( data, x_new1):\n",
        "    X= data['P'].values\n",
        "\n",
        "    # Create individual interpolators for each column\n",
        "    interp_bo = interp1d(X, data['BO'].values, kind='linear', fill_value='extrapolate')\n",
        "    interp_bg = interp1d(X, data['BG'].values, kind='linear', fill_value='extrapolate')\n",
        "    interp_rs = interp1d(X, data['RS'].values, kind='linear', fill_value='extrapolate')\n",
        "    interp_visco= interp1d(X, data['AMEO'].values, kind='linear', fill_value='extrapolate')\n",
        "    interp_mug = interp1d(X, data['AMEG'].values, kind='linear', fill_value='extrapolate')\n",
        "\n",
        "    # Define the new X value for interpolation\n",
        "\n",
        "\n",
        "    boc = interp_bo(x_new1)\n",
        "\n",
        "\n",
        "    bgc = interp_bg(x_new1)\n",
        "\n",
        "\n",
        "    rsc = interp_rs(x_new1)\n",
        "\n",
        "    viscoc = interp_visco(x_new1)\n",
        "\n",
        "\n",
        "    mugc1 = interp_mug(x_new1)\n",
        "\n",
        "    return boc,bgc,rsc,viscoc, mugc1"
      ]
    },
    {
      "cell_type": "code",
      "execution_count": null,
      "metadata": {
        "colab": {
          "base_uri": "https://localhost:8080/"
        },
        "id": "M6SP0OcJo-rq",
        "outputId": "9d52fbc1-0700-4f50-eeae-e8fa0da5542d"
      },
      "outputs": [
        {
          "output_type": "stream",
          "name": "stdout",
          "text": [
            "boc=   1.2795291794606725\n",
            "bgc  = 0.021891771658261977\n",
            "rsc  = 49.60595022604979\n",
            "ameoc= 0.8249727404059626\n",
            "amegc= 0.013645779416428798\n"
          ]
        }
      ],
      "source": [
        "xnew_2=55.0\n",
        "boc,bgc,rsc,ameoc,mugc = polate_pvt( data, xnew_2)\n",
        "print('boc=  ',boc)\n",
        "print('bgc  =',bgc)\n",
        "print('rsc  =',rsc)\n",
        "print('ameoc=',ameoc)\n",
        "print('amegc=',mugc)"
      ]
    },
    {
      "cell_type": "code",
      "execution_count": null,
      "metadata": {
        "colab": {
          "base_uri": "https://localhost:8080/"
        },
        "id": "ck65UI2lo-rr",
        "outputId": "683e0cf1-5b73-4305-b020-75412c25744d"
      },
      "outputs": [
        {
          "output_type": "stream",
          "name": "stdout",
          "text": [
            "[0. 0. 0. 0. 0. 0. 0. 0. 0. 0. 0. 0. 0. 0.]\n"
          ]
        }
      ],
      "source": [
        "pr = np.zeros(NTYR, float)\n",
        "gor= np.zeros(NTYR, float)\n",
        "gp=np.zeros(NTYR,float)\n",
        "sou1= np.zeros(NTYR,float)\n",
        "oilp=ANP\n",
        "print(sou1)"
      ]
    },
    {
      "cell_type": "code",
      "execution_count": null,
      "metadata": {
        "colab": {
          "base_uri": "https://localhost:8080/"
        },
        "id": "16MhjP7Mo-rs",
        "outputId": "2b4af6fc-ee6b-4cef-b33b-6c95284ac81a"
      },
      "outputs": [
        {
          "output_type": "stream",
          "name": "stdout",
          "text": [
            "0 2002.4811041731998 16.397980799999065 179.9 -121.11754170204382\n",
            "10 2002.7521459051998 180.3777887999897 178.90000000000006 -10.103097333818265\n",
            "20 2003.0231876371995 344.3575967999804 177.90000000000012 -4.8166952210456175\n",
            "30 2003.2942293692 508.337404799971 176.90000000000018 -2.9408751165133897\n",
            "40 2003.5652711011996 672.3172127999617 175.90000000000023 -1.9800892093139546\n",
            "50 2003.8363128331998 836.2970207999523 174.9000000000003 -1.396082089251554\n",
            "60 2004.1073545651996 1000.276828799943 173.90000000000035 -1.0035527134719064\n",
            "70 2004.3783962972 1164.2566367999336 172.9000000000004 -0.7215949928414565\n",
            "80 2004.6494380291997 1328.2364447999244 171.90000000000046 -0.5092564624901292\n",
            "90 2004.9204797611997 1492.2162527999149 170.90000000000052 -0.34358574100722605\n",
            "100 2005.1915214931996 1656.1960607999056 169.90000000000057 -0.21072110298628366\n",
            "110 2005.4625632251998 1820.1758687998963 168.90000000000063 -0.1017960393835291\n",
            "120 2005.7336049571995 1984.1556767998868 167.9000000000007 -0.010875118525031535\n",
            "0 2625.2155604863196 29532.763420799994 -0.1 0.9111083672367288\n",
            "istepb= 1\n",
            " We are now below saturation pressure\n",
            "current value of istep= 1\n",
            "value of istepb= 1\n",
            " value of expected recovery upto pb= 6004.778779152301\n",
            " We are now below saturation pressure\n",
            "istep= 1\n",
            "0 88.66043344191894 30.235154204251153 199271.91548087704 123.99 -1.9323625354440237 2.9323625354440237\n",
            " We are now below saturation pressure\n",
            "istep= 2\n",
            "0 273.2585399039217 120.9901162159843 213736.3955421139 123.95999999999998 -1.258519525810827 2.258519525810827\n",
            " We are now below saturation pressure\n",
            "istep= 3\n",
            "0 772.3931870168321 302.72278753445954 252596.3323120788 123.89999999999995 -1.5514867688277647 2.5514867688277647\n",
            "10 775.7422396151883 606.270565050404 252577.83117616456 123.7999999999999 -0.2795314243083775 1.2795314243083775\n",
            " We are now below saturation pressure\n",
            "istep= 4\n",
            "0 1897.488822048988 819.2448783505189 328105.19673407613 123.72999999999986 -1.316143649099672 2.316143649099672\n",
            "10 1901.1062040318657 1124.1951388352454 328069.17791133275 123.62999999999981 -0.6910820358123602 1.6910820358123602\n",
            "20 1904.7158377526034 1429.9703893013682 328033.15908858937 123.52999999999976 -0.3319966986751235 1.3319966986751235\n",
            "30 1908.317723211202 1736.570629749242 327997.14026584604 123.42999999999971 -0.09890014867219077 1.0989001486721908\n",
            " We are now below saturation pressure\n",
            "istep= 5\n",
            "0 2889.080805637423 1951.6816671016277 397467.18849536916 123.35999999999967 -0.4803032965554741 1.480303296555474\n",
            "10 2893.0968663698654 2259.684390518106 397433.93562317773 123.25999999999962 -0.2803101523866036 1.2803101523866036\n",
            "20 2897.106341044807 2568.512103916158 397400.6827509863 123.15999999999957 -0.12793174563111753 1.1279317456311175\n",
            "30 2901.1092296622464 2878.164807295784 397367.42987879494 123.05999999999952 -0.007971893168973843 1.0079718931689738\n",
            " We are now below saturation pressure\n",
            "istep= 6\n",
            "0 3265.8939160848317 2909.1754520826294 425158.4681454888 123.04999999999951 -0.12261840850706807 1.122618408507068\n",
            "10 3270.225494333382 3219.7356444420393 425145.13011727156 122.94999999999946 -0.015681365014702076 1.015681365014702\n",
            " We are now below saturation pressure\n",
            "istep= 7\n",
            "0 3928.248658536119 3281.9466817117745 466846.29770461126 122.92999999999945 -0.19692640969025454 1.1969264096902545\n",
            "10 3932.7593335906276 3593.4968620489135 466826.25992950145 122.8299999999994 -0.09441012043858477 1.0944101204385848\n",
            "20 3937.748512778527 3905.8720323677153 466861.6481937474 122.72999999999935 -0.008161168657512041 1.008161168657512\n",
            " We are now below saturation pressure\n",
            "istep= 8\n",
            "0 4279.104427389266 3937.1549238486377 487051.1105441004 122.71999999999935 -0.08685192992262714 1.0868519299226271\n",
            "10 4284.099066457886 4250.437583147134 487074.0155859392 122.6199999999993 -0.007919533613249152 1.0079195336132492\n",
            " We are now below saturation pressure\n",
            "istep= 9\n",
            "0 4673.238333213436 4281.811223525965 506595.6408440273 122.60999999999929 -0.09141624636247747 1.0914162463624775\n",
            "10 4678.339549069176 4596.001371804246 506617.9678157947 122.50999999999924 -0.01791517682524235 1.0179151768252424\n",
            " We are now below saturation pressure\n",
            "istep= 10\n",
            "0 4970.386908410334 4690.419289334171 523214.43413023563 122.47999999999922 -0.059689252027595785 1.0596892520275958\n",
            " We are now below saturation pressure\n",
            "istep= 11\n",
            "0 5139.70610436563 4974.118536513873 536369.8329039615 122.38999999999918 -0.03328983148194342 1.0332898314819434\n",
            " We are now below saturation pressure\n",
            "istep= 12\n",
            "0 5344.050879844696 5132.0179758850345 548925.5241980157 122.33999999999915 -0.04131569783192268 1.0413156978319227\n",
            " We are now below saturation pressure\n",
            "istep= 13\n",
            "0 5481.89614061225 5353.4236867969685 560483.7760150237 122.26999999999911 -0.023998185335513345 1.0239981853355133\n"
          ]
        }
      ],
      "source": [
        "if EM == 0:\n",
        "    for istep in range(NTYR):\n",
        "        if istep == 0:\n",
        "          p=PINIT\n",
        "        else:\n",
        "          p=pr[i-1]\n",
        "        delp=0.1\n",
        "        toll=0.01\n",
        "        k=0\n",
        "        while True:\n",
        "            p=p-0.1\n",
        "            BOC=BOI*(1.0+CO*(PINIT-p))     #current BO at p\n",
        "            rhs=ANP[istep]*BOC+WP[istep]-WI[istep]\n",
        "            lhs=AIOIP*BOI*(COE*(PINIT-p))# expansion of rock and oil volume\n",
        "            rat=rhs/lhs\n",
        "            diff=1-rat\n",
        "\n",
        "\n",
        "            if k % 10 == 0:\n",
        "                #print( \"we are in udersaturated pressure regime in iteration\")\n",
        "                print(k,rhs,lhs,p,diff)\n",
        "            if abs(diff)< toll or  diff > 0  :\n",
        "                pr[istep]=p\n",
        "                gp[istep]=ANP[istep]*RS[0]\n",
        "                gor[istep]=RS[0]\n",
        "                sou1[istep]=1-SWI\n",
        "                break\n",
        "            k= k+1\n",
        "        if p <= P[0]:\n",
        "            istepb=istep\n",
        "            print('istepb=',istepb)\n",
        "            print(' We are now below saturation pressure')\n",
        "\n",
        "            break\n",
        "    print ('current value of istep=',istep)\n",
        "    print ('value of istepb=', istepb)\n",
        "\n",
        "    recb=(AIOIP*BOI*(COE*(PINIT-P[0]))+ WI[istepb]-WP[istepb])/BO[0]\n",
        "\n",
        "    gasb=recb*RS[0]\n",
        "    wib=WI[istepb]\n",
        "    wpb=WP[istepb]\n",
        "    oilp=ANP-recb\n",
        "    WI1= WI-wib\n",
        "    WP1= WP-wpb\n",
        "    print(' value of expected recovery upto pb=', recb)\n",
        "\n",
        "\n",
        "\n",
        "\n",
        "    for istep in range(istepb,NTYR):  # Calculations below (< pb) bubble point start from here\n",
        "        print(' We are now below saturation pressure')\n",
        "        print('istep=',istep)\n",
        "\n",
        "        delp=0.1\n",
        "        toll=0.01\n",
        "        SO=1.0-SWI\n",
        "\n",
        "        if istep == istepb:\n",
        "            p=P[0]\n",
        "\n",
        "        else:\n",
        "            p= pr[istep-1]\n",
        "        k=0\n",
        "        while True:\n",
        "            p=p-0.01\n",
        "            boc,bgc,rsc,ameoc,mugc = polate_pvt( data, p)\n",
        "            a1=(AIOIP-ANP[istep])*boc-(WI1[istep]-WP1[istep])*(SOR/(1.0-SWI-SOR))\n",
        "            D2=(AIOIP*BOI*(1-((CW*SWI+CF*SO)/SO*(PINIT-p))))/SO\n",
        "            b1=D2-((WI[istep]-WP[istep])/(1-SWI-SOR))\n",
        "            sou=a1/b1\n",
        "            SG=1.0-SWI-sou\n",
        "            rat=ratio(SG,IFL) # work out kg/ko ratio at sg for ifl type rel perm curve\n",
        "            fact=((boc/bgc)*(ameoc/mugc))*rat\n",
        "            #print('p= ',p,'SG=',SG, ' fact=  ',fact)\n",
        "            gorn=rsc + fact\n",
        "            if istep ==0:\n",
        "                gasp=(gorn+RS[0])*0.5*ANP[0]\n",
        "                term=0.5*oilp[0]\n",
        "            else:\n",
        "                delnp=ANP[istep]-ANP[istep-1]\n",
        "                term=((gorn+gor[istep-1])*delnp)\n",
        "                gasp=gp[istep-1]+0.5*term\n",
        "\n",
        "            bt=boc-(rsc-RS[0])*bgc\n",
        "            anum=(oilp[istep]*bt) +  (gasp*bgc)-(oilp[istep]*RS[0]*bgc)-WI1[istep]+WP1[istep]\n",
        "            D3=(BO1*(CW*SWI+CF)*(P[0]-p)/(1-SWI))  # rock and water expansion term\n",
        "            aden=AIOIP*((bt-BO1)+(EM*BO1*(bgc-BG[0])/BG[0])+D3)\n",
        "            #print('anum=', anum,'      aden=',aden)\n",
        "            rat=anum/aden\n",
        "            diff1=1-rat\n",
        "            if k % 10 == 0:\n",
        "                print(k,anum,aden,gasp,p,diff1,rat)\n",
        "            if abs(diff1) < toll or diff1 > 0 :\n",
        "                pr[istep]=p\n",
        "                gp[istep]=gasp\n",
        "                gor[istep]=gorn\n",
        "                sou1[istep]=sou\n",
        "                break\n",
        "            k= k+1\n",
        "\n",
        "\n",
        "\n",
        "\n",
        "else:                           #the case where the reservoir is saturated EM==0\n",
        "\n",
        "    for istep in range(NTYR):\n",
        "        print('EM  we are talking of sturated reservori from day one gascapsize =', EM)\n",
        "        delp=0.1\n",
        "        toll=0.01\n",
        "        SO=1.0-SWI\n",
        "        if istep ==0:\n",
        "             p=P[0]\n",
        "        else:\n",
        "            p=pr[istep-1]\n",
        "            print('istep=  ',istep, 'p=  ',p)\n",
        "        k=0\n",
        "        while True:\n",
        "            p=p-0.01\n",
        "            boc,bgc,rsc,ameoc,mugc = polate_pvt( data, p)\n",
        "            a1=(AIOIP-ANP[istep])*boc-(WI[istep]-WP[istep])*(SOR/(1.0-SWI-SOR))\n",
        "            D2=(AIOIP*BOI*(1-((CW*SWI+CF*SO)/SO*(PINIT-p))))/SO\n",
        "            b1=D2-((WI[istep]-WP[istep])/(1-SWI-SOR))\n",
        "            sou=a1/b1\n",
        "            SG=1.0-SWI-sou\n",
        "            rat=ratio(SG,IFL) # work out kg/ko ratio at sg for ifl type rel perm curve\n",
        "            fact=((boc/bgc)*(ameoc/mugc))*rat\n",
        "            #print('p= ',p,'SG=',SG, ' fact=  ',fact)\n",
        "            gorn=rsc + fact\n",
        "            if istep ==0:\n",
        "                gasp=(gorn+RS[0])*0.5*ANP[0]\n",
        "                term=0.5*ANP[0]\n",
        "            else:\n",
        "                delnp=ANP[istep]-ANP[istep-1]\n",
        "                term=((gorn+gor[istep-1])*delnp)\n",
        "                gasp=gp[istep-1]+0.5*term\n",
        "\n",
        "            bt=boc-(rsc-RS[0])*bgc\n",
        "            anum=(ANP[istep]*bt) +  (gasp*bgc)-(ANP[istep]*RS[0]*bgc)-WI[istep]+WP[istep]\n",
        "            D3=(BO1*(CW*SWI+CF)*(P[0]-p)/(1-SWI))  # rock and water expansion term\n",
        "            aden=AIOIP*((bt-BO1)+(EM*BO1*(bgc-BG[0])/BG[0])+D3)\n",
        "            #print('anum=', anum,'      aden=',aden)\n",
        "            rat=anum/aden\n",
        "            diff1=1-rat\n",
        "            if k % 10 == 0:\n",
        "                print(k,anum,aden,gasp,p,diff1,rat)\n",
        "            if abs(diff1) < toll or diff1 > 0 :\n",
        "                pr[istep]=p\n",
        "                gp[istep]=gasp\n",
        "                gor[istep]=gorn\n",
        "                sou1[istep]=sou\n",
        "                break\n",
        "            k= k+1\n",
        "\n"
      ]
    },
    {
      "cell_type": "code",
      "execution_count": null,
      "metadata": {
        "colab": {
          "base_uri": "https://localhost:8080/"
        },
        "id": "jNp9cn0Yo-rt",
        "outputId": "3d87fa25-55aa-454c-bc09-b3c642d6caf1"
      },
      "outputs": [
        {
          "output_type": "stream",
          "name": "stdout",
          "text": [
            "    TIME  oilp     qo      pr    sou      gor     gp   wi    wp\n",
            "0    1.0  1170  3.205  167.80  0.620  129.231  0.000  0.0   287\n",
            "1    2.0  1542  1.019  123.97  0.626  129.194  0.000  0.0   300\n",
            "2    3.0  1654  0.307  123.91  0.625  129.120  0.000  0.0   318\n",
            "3    4.0  1955  0.825  123.74  0.625  128.911  0.000  0.0   370\n",
            "4    5.0  2541  1.605  123.37  0.623  128.457  0.000  0.0   623\n",
            "5    6.0  3082  1.482  123.06  0.621  128.075  0.000  0.0   802\n",
            "6    7.0  3299  0.595  122.94  0.621  127.928  0.000  0.0   846\n",
            "7    8.0  3625  0.893  122.73  0.620  128.010  0.000  0.0  1022\n",
            "8    9.0  3782  0.430  122.62  0.619  129.473  0.000  0.0  1130\n",
            "9   10.0  3932  0.411  122.49  0.619  131.173  0.001  0.0  1294\n",
            "10  11.0  4058  0.345  122.40  0.618  132.434  0.001  0.0  1394\n",
            "11  12.0  4157  0.271  122.35  0.618  133.146  0.001  0.0  1408\n",
            "12  13.0  4251  0.258  122.28  0.618  134.053  0.001  0.0  1466\n",
            "13  14.0  4337  0.236  122.24  0.618  134.634  0.001  0.0  1468\n"
          ]
        }
      ],
      "source": [
        "temp1=pd.DataFrame()\n",
        "temp1=pd.DataFrame(columns=['TIME','oilp','qo','pr','sou','gor','gp','wi','wp'])\n",
        "temp1['TIME']=TIME/365\n",
        "temp1['oilp']=ANP\n",
        "temp1['qo']=QO\n",
        "temp1['pr']=pr\n",
        "temp1['sou']=sou1\n",
        "temp1['gor']=gor\n",
        "temp1['gp']=gp/1.E09\n",
        "temp1['wp']=WP\n",
        "temp1['wi']=WI\n",
        "print(temp1.round(3))"
      ]
    },
    {
      "cell_type": "code",
      "execution_count": null,
      "metadata": {
        "colab": {
          "base_uri": "https://localhost:8080/",
          "height": 512
        },
        "id": "Q-JnbbjOo-ru",
        "outputId": "fc1abbff-db9f-4248-d609-68a259612e08"
      },
      "outputs": [
        {
          "output_type": "display_data",
          "data": {
            "text/plain": [
              "<Figure size 1000x500 with 4 Axes>"
            ],
            "image/png": "[encoded data removed]"
          },
          "metadata": {}
        }
      ],
      "source": [
        "import matplotlib.pyplot as plt\n",
        "%matplotlib inline\n",
        "fig, ax1= plt.subplots(1, 1, figsize=(10,5))\n",
        "# Set background color to yellow\n",
        "ax1.set_facecolor('white')\n",
        "\n",
        "ax1.set_xlabel(' Time in years   ')\n",
        "ax1.set_ylabel(' Cumulative oil in m3 ',color='red')\n",
        "ax1.plot(temp1.TIME,temp1.oilp,color='red',label='Np')\n",
        "ax1.tick_params(axis='y')                          #,labelcolor='tab:red')\n",
        "ax2=ax1.twinx()\n",
        "ax2.set_ylabel(' Reservoir Pressure KSC ',color='blue')\n",
        "ax2.plot(temp1.TIME,temp1.pr,color='blue',label='Pbar')\n",
        "ax2.tick_params(axis='y')                           #labelcolor='tab:blue')\n",
        "ax3=ax1.twinx()\n",
        "ax3.set_ylabel(' GOR(V/V) ',color='black')\n",
        "ax3.plot(temp1.TIME,temp1.gor,color='black',label='GOR(v/v)')\n",
        "ax3.spines['right'].set_position(('outward',55))\n",
        "ax3.tick_params(axis='y')\n",
        "ax4=ax1.twinx()\n",
        "ax4.set_ylabel(' qo m3/day ',color='red')\n",
        "\n",
        "ax4.bar(temp1.TIME,temp1.qo,edgecolor='red', alpha=0.5, width=1, label='qo m3/day')\n",
        "ax4.spines['right'].set_position(('outward',125))\n",
        "ax4.tick_params(axis='y')\n",
        "fig.suptitle('Reservoir performance Depletion Drive') #, fontsize=16)\n",
        "fig.tight_layout()\n",
        "plt.grid()\n",
        "plt.show()"
      ]
    }
  ],
  "metadata": {
    "colab": {
      "provenance": [],
      "include_colab_link": true
    },
    "kernelspec": {
      "display_name": "Python 3",
      "language": "python",
      "name": "python3"
    },
    "language_info": {
      "codemirror_mode": {
        "name": "ipython",
        "version": 3
      },
      "file_extension": ".py",
      "mimetype": "text/x-python",
      "name": "python",
      "nbconvert_exporter": "python",
      "pygments_lexer": "ipython3",
      "version": "3.7.4"
    }
  },
  "nbformat": 4,
  "nbformat_minor": 0
}